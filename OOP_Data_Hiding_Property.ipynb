{
 "cells": [
  {
   "cell_type": "markdown",
   "id": "88636ae7-0d14-4ea7-b91a-fc6b43bb7b95",
   "metadata": {},
   "source": []
  },
  {
   "cell_type": "code",
   "execution_count": 7,
   "id": "397cacc6",
   "metadata": {},
   "outputs": [],
   "source": [
    "class Product:\n",
    "    def __init__(self):\n",
    "        self.data1 = 10\n",
    "        self.__data2 = 20\n",
    "              \n",
    "    def methodA(self):\n",
    "        pass\n",
    "            \n",
    "    def __methodB(self):\n",
    "        pass"
   ]
  },
  {
   "cell_type": "code",
   "execution_count": 8,
   "id": "cec6bc63",
   "metadata": {},
   "outputs": [],
   "source": [
    "p = Product()"
   ]
  },
  {
   "cell_type": "code",
   "execution_count": 9,
   "id": "a7f739e9",
   "metadata": {},
   "outputs": [
    {
     "data": {
      "text/plain": [
       "10"
      ]
     },
     "execution_count": 9,
     "metadata": {},
     "output_type": "execute_result"
    }
   ],
   "source": [
    "p.data1"
   ]
  },
  {
   "cell_type": "code",
   "execution_count": 14,
   "id": "a9e30a37",
   "metadata": {},
   "outputs": [
    {
     "data": {
      "text/plain": [
       "<bound method Product.__methodB of <__main__.Product object at 0x0000021EEE3CFA00>>"
      ]
     },
     "execution_count": 14,
     "metadata": {},
     "output_type": "execute_result"
    }
   ],
   "source": [
    "p._Product__methodB"
   ]
  },
  {
   "cell_type": "code",
   "execution_count": 16,
   "id": "aab0b525",
   "metadata": {},
   "outputs": [
    {
     "data": {
      "text/plain": [
       "['_Product__data2',\n",
       " '_Product__methodB',\n",
       " '__class__',\n",
       " '__delattr__',\n",
       " '__dict__',\n",
       " '__dir__',\n",
       " '__doc__',\n",
       " '__eq__',\n",
       " '__format__',\n",
       " '__ge__',\n",
       " '__getattribute__',\n",
       " '__gt__',\n",
       " '__hash__',\n",
       " '__init__',\n",
       " '__init_subclass__',\n",
       " '__le__',\n",
       " '__lt__',\n",
       " '__module__',\n",
       " '__ne__',\n",
       " '__new__',\n",
       " '__reduce__',\n",
       " '__reduce_ex__',\n",
       " '__repr__',\n",
       " '__setattr__',\n",
       " '__sizeof__',\n",
       " '__str__',\n",
       " '__subclasshook__',\n",
       " '__weakref__',\n",
       " 'data1',\n",
       " 'methodA']"
      ]
     },
     "execution_count": 16,
     "metadata": {},
     "output_type": "execute_result"
    }
   ],
   "source": [
    "dir(p)"
   ]
  },
  {
   "cell_type": "code",
   "execution_count": 17,
   "id": "26ca7b18",
   "metadata": {},
   "outputs": [
    {
     "data": {
      "text/plain": [
       "<bound method Product.__methodB of <__main__.Product object at 0x0000021EEE3CFA00>>"
      ]
     },
     "execution_count": 17,
     "metadata": {},
     "output_type": "execute_result"
    }
   ],
   "source": [
    "p._Product__methodB"
   ]
  },
  {
   "cell_type": "code",
   "execution_count": null,
   "id": "c19d3bae",
   "metadata": {},
   "outputs": [],
   "source": []
  },
  {
   "cell_type": "code",
   "execution_count": null,
   "id": "8cd8052b",
   "metadata": {},
   "outputs": [],
   "source": []
  },
  {
   "cell_type": "code",
   "execution_count": 42,
   "id": "19449496",
   "metadata": {},
   "outputs": [],
   "source": [
    "class Product:\n",
    "    def __init__(self,x,y):\n",
    "        self._x = x\n",
    "        self._y = y\n",
    "        \n",
    "    def display(self):\n",
    "        print(self._x, self._y)\n",
    "    \n",
    "    @property\n",
    "    def value(self):\n",
    "        return self._x\n",
    "\n",
    "    @value.setter\n",
    "    def value(self, val):\n",
    "        self._x = val\n",
    "    \n",
    "    @property  #getter method\n",
    "    def y(self):\n",
    "         return self._y\n",
    " \n",
    "    @y.setter   #setter method\n",
    "    def y(self, val):\n",
    "         self._y = val"
   ]
  },
  {
   "cell_type": "code",
   "execution_count": 43,
   "id": "e802ef15",
   "metadata": {},
   "outputs": [],
   "source": [
    "p = Product(12,24)"
   ]
  },
  {
   "cell_type": "code",
   "execution_count": 46,
   "id": "e9570756",
   "metadata": {},
   "outputs": [
    {
     "data": {
      "text/plain": [
       "20"
      ]
     },
     "execution_count": 46,
     "metadata": {},
     "output_type": "execute_result"
    }
   ],
   "source": [
    "p.value"
   ]
  },
  {
   "cell_type": "code",
   "execution_count": 45,
   "id": "8e3c5747",
   "metadata": {},
   "outputs": [],
   "source": [
    "p.value = 20"
   ]
  },
  {
   "cell_type": "code",
   "execution_count": null,
   "id": "76959030",
   "metadata": {},
   "outputs": [],
   "source": []
  },
  {
   "cell_type": "code",
   "execution_count": 87,
   "id": "10c8faba",
   "metadata": {},
   "outputs": [],
   "source": [
    "class Person:\n",
    "    def __init__(self, name, age):\n",
    "        self.name= name\n",
    "        if 20<age<80:\n",
    "            self._age = age\n",
    "        else:\n",
    "            raise ValueError(\"too young or too old\")\n",
    "        \n",
    "    def display(self):\n",
    "        print(self.name, self._age)\n",
    "        \n",
    "    #def set_age(self, new_age):\n",
    "    #    if 20<new_age<80:\n",
    "    #        self._age = age\n",
    "    #    else:\n",
    "    #        raise ValueError(\"too young or too old\")\n",
    "    \n",
    "    @property\n",
    "    def age(self):\n",
    "        return self._age\n",
    "    \n",
    "    @age.setter\n",
    "    def age(self, new_age):\n",
    "        if 20<new_age<80:\n",
    "            self._age = new_age\n",
    "        else:\n",
    "            raise ValueError(\"too young or too old\")"
   ]
  },
  {
   "cell_type": "code",
   "execution_count": 88,
   "id": "505701aa",
   "metadata": {},
   "outputs": [],
   "source": [
    "p = Person(\"Song\", 27)"
   ]
  },
  {
   "cell_type": "code",
   "execution_count": 89,
   "id": "19696835",
   "metadata": {},
   "outputs": [
    {
     "data": {
      "text/plain": [
       "27"
      ]
     },
     "execution_count": 89,
     "metadata": {},
     "output_type": "execute_result"
    }
   ],
   "source": [
    "p.age"
   ]
  },
  {
   "cell_type": "code",
   "execution_count": 90,
   "id": "31e28a2d",
   "metadata": {},
   "outputs": [],
   "source": [
    "p.age = 28"
   ]
  },
  {
   "cell_type": "code",
   "execution_count": 92,
   "id": "4d53472c",
   "metadata": {},
   "outputs": [
    {
     "name": "stdout",
     "output_type": "stream",
     "text": [
      "Song 28\n"
     ]
    }
   ],
   "source": [
    "p.display()"
   ]
  },
  {
   "cell_type": "code",
   "execution_count": null,
   "id": "4f8069b2",
   "metadata": {},
   "outputs": [],
   "source": []
  },
  {
   "cell_type": "markdown",
   "id": "c268d279",
   "metadata": {},
   "source": [
    "## 1. In the BankAccount class that you had created in the previous exercise, delete the set_details() method and create an __init__ method."
   ]
  },
  {
   "cell_type": "code",
   "execution_count": 93,
   "id": "9befdcdc",
   "metadata": {},
   "outputs": [],
   "source": [
    "class Bank_account():\n",
    "    def __init__(self, name, balance=0):\n",
    "        self.name = name\n",
    "        self.balance = balance\n",
    "        \n",
    "    def display(self):\n",
    "        print(self.name, self.balance)\n",
    "        \n",
    "    def withdraw(self, amount):\n",
    "        self.balance -= amount\n",
    "        self.display()\n",
    "        \n",
    "    def deposit(self, amount):\n",
    "        self.balance += amount \n",
    "        self.display()"
   ]
  },
  {
   "cell_type": "code",
   "execution_count": null,
   "id": "b7a3c51b",
   "metadata": {},
   "outputs": [],
   "source": []
  },
  {
   "cell_type": "markdown",
   "id": "ebfe56f3",
   "metadata": {},
   "source": [
    "## 2. Create a class named Book with an __init__ method. Inside the __init__ method, create the instance variables isbn, title, author, publisher, pages, price, copies. Write a method display that prints the isbn, title, price and number of copies of the book.\n",
    "\n"
   ]
  },
  {
   "cell_type": "markdown",
   "id": "b61e8fa0",
   "metadata": {},
   "source": [
    "## 3. For the Book class that you have created, write a method named in_stock that returns True if number of copies is more than zero, otherwise it returns False. Create another method named sell that decreases the number of copies by 1 if the book is in stock, otherwise it prints the message that the book is out of stock."
   ]
  },
  {
   "cell_type": "markdown",
   "id": "0ff565fd",
   "metadata": {},
   "source": [
    "## 4. Create a list named books that contains the 4 Book instance objects that you have created in question 2. Iterate over this list using a for loop and call display() for each object in the list. Write a list comprehension to create another list that contains title of books written by Jack."
   ]
  },
  {
   "cell_type": "markdown",
   "id": "feece855",
   "metadata": {},
   "source": [
    "## 5. In the Book class, create a property named price such that the price of a book cannot be less than 50 or more than 1000."
   ]
  },
  {
   "cell_type": "code",
   "execution_count": 1,
   "id": "3e6d85e4",
   "metadata": {},
   "outputs": [],
   "source": [
    "class Book():\n",
    "    def __init__(self, isbn, title, author, publisher, pages, price, copies):\n",
    "        self.isbn = isbn\n",
    "        self.title = title\n",
    "        self.author = author\n",
    "        self.publisher = publisher\n",
    "        self.pages = pages\n",
    "        self.price = price\n",
    "        self.copies = copies\n",
    "        \n",
    "    def display(self):\n",
    "        print(self.isbn, self.title, self.price, self.copies)\n",
    "        \n",
    "    def in_stock(self):\n",
    "        if self.copies > 0:\n",
    "            return True\n",
    "        else:\n",
    "            return False\n",
    "        \n",
    "    def sell(self):\n",
    "        if self.in_stock():\n",
    "            self.copies -= 1\n",
    "        else: \n",
    "            print(\"the book is out of stock\")\n",
    "            \n",
    "    @property\n",
    "    def price(self):\n",
    "        return self._price\n",
    "    \n",
    "    @price.setter\n",
    "    def price(self, new_price):\n",
    "        if 50 <= new_price <= 1000:\n",
    "            self.price = new_price\n",
    "        else:\n",
    "            raise ValueError ('set Price correctly!!!')"
   ]
  },
  {
   "cell_type": "code",
   "execution_count": null,
   "id": "47a8e0bb",
   "metadata": {},
   "outputs": [],
   "source": [
    "book1 = Book('957-4-36-547417-1', 'Learn Physics','Stephen', 'CBC', 350, 200,10)\n",
    "book2 = Book('652-6-86-748413-3', 'Learn Chemistry','Jack', 'CBC', 400, 220,20)\n",
    "book3 = Book('957-7-39-347216-2', 'Learn Maths','John', 'XYZ', 500, 300,5)\n",
    "book4 = Book('957-7-39-347216-2', 'Learn Biology','Jack', 'XYZ', 400, 200,6)"
   ]
  },
  {
   "cell_type": "code",
   "execution_count": null,
   "id": "26630072",
   "metadata": {},
   "outputs": [],
   "source": [
    "book4.in_stock()"
   ]
  },
  {
   "cell_type": "code",
   "execution_count": null,
   "id": "d97ed03e",
   "metadata": {},
   "outputs": [],
   "source": [
    "book4.sell()"
   ]
  },
  {
   "cell_type": "code",
   "execution_count": null,
   "id": "8bfad616",
   "metadata": {},
   "outputs": [],
   "source": [
    "book4.copies"
   ]
  },
  {
   "cell_type": "code",
   "execution_count": null,
   "id": "c37034f7",
   "metadata": {},
   "outputs": [],
   "source": [
    "books = [book1, book2, book3, book4]"
   ]
  },
  {
   "cell_type": "code",
   "execution_count": null,
   "id": "8231a05c",
   "metadata": {},
   "outputs": [],
   "source": [
    "for book in books:\n",
    "    book.display()"
   ]
  },
  {
   "cell_type": "code",
   "execution_count": null,
   "id": "490f541c",
   "metadata": {},
   "outputs": [],
   "source": [
    "book_list = [x for x in books if x.author==\"Jack\"]\n",
    "book_list"
   ]
  },
  {
   "cell_type": "code",
   "execution_count": null,
   "id": "e553d566",
   "metadata": {},
   "outputs": [],
   "source": []
  },
  {
   "cell_type": "markdown",
   "id": "35229512",
   "metadata": {},
   "source": [
    "## 6. Make a class Fraction that contains two instance variables, nr and dr (nr stands for numerator and dr for denominator). Define an __init__ method that provides values for these instance variables. Make the denominator optional by providing a default argument of 1. In the __init__ method, make the denominator positive if it is negative. For example  -2/-3 should be changed to 2/3 and 2/-3 to -2/3. Write a method named show that prints numerator, then '/' and then the denominator."
   ]
  },
  {
   "cell_type": "code",
   "execution_count": null,
   "id": "3952d7f6",
   "metadata": {},
   "outputs": [],
   "source": [
    "class Fraction():\n",
    "    def __init__(self, nr, dr=1):\n",
    "        self.nr = nr\n",
    "        self.dr = abs(dr)\n",
    "        \n",
    "    "
   ]
  },
  {
   "cell_type": "markdown",
   "id": "de836c21",
   "metadata": {},
   "source": [
    "## 8. For the following class Product, create a read only property named selling_price that is calculated by deducting discount from the marked_price. The instance variable discount represents discount in percent. "
   ]
  },
  {
   "cell_type": "markdown",
   "id": "24c98c8b",
   "metadata": {},
   "source": [
    "## 9. Suppose after some time, you want to give an additional 2% discount on a product, if its price is above 500. To incorporate this change, implement discount as a property in your Product class."
   ]
  },
  {
   "cell_type": "code",
   "execution_count": 5,
   "id": "bb51e6b9",
   "metadata": {},
   "outputs": [],
   "source": [
    "class Product():\n",
    "    def __init__(self, id, marked_price, discount):\n",
    "        self.id = id\n",
    "        self.marked_price = marked_price\n",
    "        self._discount = _discount\n",
    "    \n",
    "    def display(self):\n",
    "        print(self.id,  self.marked_price,  self.discount)\n",
    "    \n",
    "    @property\n",
    "    def selling_price(self):\n",
    "        return self.marked_price - (0.01*self.discount*self.marked_price)\n",
    "    \n",
    "    @property\n",
    "    def discount(self):\n",
    "        if self.marked_price > 500:\n",
    "            self.marked_price - (0.02*self.marked_price)\n"
   ]
  },
  {
   "cell_type": "code",
   "execution_count": 6,
   "id": "3ccee7cb",
   "metadata": {},
   "outputs": [],
   "source": [
    "p1 = Product('X879', 400, 6)\n",
    "p2 = Product('A234', 100, 5)\n",
    "p3 = Product('B987', 990, 4)\n",
    "p4 = Product('H456', 800, 6)"
   ]
  },
  {
   "cell_type": "code",
   "execution_count": 7,
   "id": "921fa2d5",
   "metadata": {},
   "outputs": [
    {
     "data": {
      "text/plain": [
       "752.0"
      ]
     },
     "execution_count": 7,
     "metadata": {},
     "output_type": "execute_result"
    }
   ],
   "source": [
    "p4.selling_price"
   ]
  },
  {
   "cell_type": "markdown",
   "id": "34fa9766",
   "metadata": {},
   "source": [
    "## 10. Write a Circle class with an instance variable named radius and a method named area. Create two more attributes named diameter and circumference and make them behave as read only attributes. Perform data validation on radius, user should not be allowed to assign a negative value to it. \n",
    "For a circle\n",
    "\n",
    "diameter =  2 * radius\n",
    "\n",
    "circumference =  2 * 3.14 * radius\n",
    "\n",
    "area =  3.14 * radius * radius"
   ]
  },
  {
   "cell_type": "code",
   "execution_count": 24,
   "id": "3a2c18b8",
   "metadata": {},
   "outputs": [],
   "source": [
    "class Circle():\n",
    "    def __init__(self, radius):\n",
    "        self._radius = radius\n",
    "        \n",
    "    @property\n",
    "    def radius(self):\n",
    "        return self._radius\n",
    "    \n",
    "    @radius.setter\n",
    "    def radius(self, new_radius):\n",
    "        if self._radius > 0:\n",
    "            self._radius = new_radius\n",
    "        else:\n",
    "            raise ValuError(\"negative values are not valid\")\n",
    "        \n",
    "    @property\n",
    "    def area(self):\n",
    "        return self.radius*self.radius*3.14\n",
    "    \n",
    "    @property\n",
    "    def diameter(self):\n",
    "        return self._radius * 2\n",
    "    \n",
    "    @property\n",
    "    def circumference(self):\n",
    "        return 2 * 3.14 * self._radius\n",
    "        "
   ]
  },
  {
   "cell_type": "code",
   "execution_count": 25,
   "id": "f680791b",
   "metadata": {},
   "outputs": [],
   "source": [
    "c1 = Circle(3)"
   ]
  },
  {
   "cell_type": "code",
   "execution_count": 26,
   "id": "c9962889",
   "metadata": {},
   "outputs": [
    {
     "data": {
      "text/plain": [
       "28.26"
      ]
     },
     "execution_count": 26,
     "metadata": {},
     "output_type": "execute_result"
    }
   ],
   "source": [
    "c1.area"
   ]
  },
  {
   "cell_type": "code",
   "execution_count": 27,
   "id": "0ea99a03",
   "metadata": {},
   "outputs": [
    {
     "data": {
      "text/plain": [
       "18.84"
      ]
     },
     "execution_count": 27,
     "metadata": {},
     "output_type": "execute_result"
    }
   ],
   "source": [
    "c1.circumference"
   ]
  },
  {
   "cell_type": "code",
   "execution_count": 28,
   "id": "4b4248ec",
   "metadata": {},
   "outputs": [
    {
     "data": {
      "text/plain": [
       "3"
      ]
     },
     "execution_count": 28,
     "metadata": {},
     "output_type": "execute_result"
    }
   ],
   "source": [
    "c1.radius"
   ]
  },
  {
   "cell_type": "code",
   "execution_count": 29,
   "id": "8dfe62af",
   "metadata": {},
   "outputs": [],
   "source": [
    "c1.radius = 2"
   ]
  },
  {
   "cell_type": "code",
   "execution_count": 30,
   "id": "2b285204",
   "metadata": {},
   "outputs": [
    {
     "data": {
      "text/plain": [
       "12.56"
      ]
     },
     "execution_count": 30,
     "metadata": {},
     "output_type": "execute_result"
    }
   ],
   "source": [
    "c1.area"
   ]
  },
  {
   "cell_type": "markdown",
   "id": "3b5efd89",
   "metadata": {},
   "source": [
    "## Make it a static method in the Fraction class that you had written in earlier exercise."
   ]
  },
  {
   "cell_type": "code",
   "execution_count": 31,
   "id": "cc9c0316",
   "metadata": {},
   "outputs": [],
   "source": [
    "@staticmethod\n",
    "def hcf(x,y):\n",
    "    x=abs(x)\n",
    "    y=abs(y)\n",
    "    smaller = y if x>y else x\n",
    "    s = smaller\n",
    "    while s>0:\n",
    "        if x%s==0 and y%s==0:\n",
    "            break\n",
    "        s-=1\n",
    "    return s"
   ]
  },
  {
   "cell_type": "markdown",
   "id": "9c44ef71",
   "metadata": {},
   "source": [
    "## 3. In the following class SalesPerson, add two class variables named total_revenue and names. The variable names should be a list that contains names of all salespersons and total_revenue should contain the total sales amount of all the salespersons."
   ]
  },
  {
   "cell_type": "code",
   "execution_count": 42,
   "id": "9c50e59e",
   "metadata": {},
   "outputs": [],
   "source": [
    "class SalesPerson:   \n",
    "    total_revenue = 0\n",
    "    names = []\n",
    "    \n",
    "    def __init__(self,name,age):\n",
    "        self.name = name\n",
    "        self.age = age\n",
    "        self.sales_amount = 0\n",
    "        SalesPerson.names.append(self.name)\n",
    "        \n",
    " \n",
    "    def make_sale(self,money):\n",
    "        self.sales_amount += money\n",
    "        SalesPerson.total_revenue += money\n",
    " \n",
    "    def show(self):\n",
    "        print(self.name, self.age, self.sales_amount)\n",
    " \n"
   ]
  },
  {
   "cell_type": "code",
   "execution_count": 43,
   "id": "c9b692d0",
   "metadata": {},
   "outputs": [
    {
     "name": "stdout",
     "output_type": "stream",
     "text": [
      "Bob 25 2200\n",
      "Ted 22 5000\n",
      "Jack 27 11000\n"
     ]
    }
   ],
   "source": [
    "s1 = SalesPerson('Bob', 25)\n",
    "s2 = SalesPerson('Ted', 22)\n",
    "s3 = SalesPerson('Jack', 27)\n",
    " \n",
    "s1.make_sale(1000)\n",
    "s1.make_sale(1200)\n",
    "s2.make_sale(5000)\n",
    "s3.make_sale(3000)\n",
    "s3.make_sale(8000)\n",
    " \n",
    "s1.show()\n",
    "s2.show()\n",
    "s3.show()"
   ]
  },
  {
   "cell_type": "code",
   "execution_count": 44,
   "id": "fcae99bf",
   "metadata": {},
   "outputs": [
    {
     "data": {
      "text/plain": [
       "['Bob', 'Ted', 'Jack']"
      ]
     },
     "execution_count": 44,
     "metadata": {},
     "output_type": "execute_result"
    }
   ],
   "source": [
    "SalesPerson.names"
   ]
  },
  {
   "cell_type": "code",
   "execution_count": 45,
   "id": "10ba3b24",
   "metadata": {},
   "outputs": [
    {
     "data": {
      "text/plain": [
       "18200"
      ]
     },
     "execution_count": 45,
     "metadata": {},
     "output_type": "execute_result"
    }
   ],
   "source": [
    "SalesPerson.total_revenue"
   ]
  },
  {
   "cell_type": "markdown",
   "id": "290d1544",
   "metadata": {},
   "source": [
    "## 4. Add a class variable named domains to the following Employee class. Make this class variable a set and it should store all domain names used by employees. Whenever an email is assigned, if the domain named is not in allowed_domains, raise a RuntimeError."
   ]
  },
  {
   "cell_type": "code",
   "execution_count": null,
   "id": "1adc3607",
   "metadata": {},
   "outputs": [],
   "source": []
  },
  {
   "cell_type": "code",
   "execution_count": 60,
   "id": "ae6e328f",
   "metadata": {},
   "outputs": [],
   "source": [
    "class Employee:  \n",
    "    domains = set()\n",
    "    allowed_domains = {'yahoo.com', 'gmail.com', 'outlook.com'}\n",
    "    \n",
    "    def __init__(self,name,email):\n",
    "        self.name = name\n",
    "        self.email = email\n",
    "        domain = email[email.index('@')+1 : ]\n",
    "        \n",
    "        if domain in Employee.allowed_domains:\n",
    "            Employee.domains.add(domain)\n",
    "        else:\n",
    "            raise RuntimeError\n",
    "        \n",
    "   \n",
    "    def display(self):\n",
    "        print(self.name, self.email)\n",
    "            "
   ]
  },
  {
   "cell_type": "code",
   "execution_count": 64,
   "id": "c19b2837",
   "metadata": {},
   "outputs": [],
   "source": [
    "e1 = Employee('John','john@gmail.com')\n",
    "e2 = Employee('Jack','jack@yahoo.com')\n",
    "e3 = Employee('Jill','jill@outlook.com')\n",
    "e4 = Employee('Ted','ted@yahoo.com')\n",
    "e5 = Employee('Tim','tim@gmail.com')\n",
    "e6 = Employee('Mike','mike@yahoo.com')"
   ]
  },
  {
   "cell_type": "code",
   "execution_count": 65,
   "id": "8b16f85f",
   "metadata": {},
   "outputs": [
    {
     "data": {
      "text/plain": [
       "{'gmail.com', 'outlook.com', 'yahoo.com'}"
      ]
     },
     "execution_count": 65,
     "metadata": {},
     "output_type": "execute_result"
    }
   ],
   "source": [
    "Employee.domains"
   ]
  },
  {
   "cell_type": "markdown",
   "id": "ff894a7b",
   "metadata": {},
   "source": [
    "## 6. The following program shows implementation of Stack Abstract data type using list. In a stack, elements are pushed and popped from one end of the stack which is called the top of the stack. This implementation has no maximum limit on the size of the stack. You have to introduce a maximum limit by adding a class variable named MAX_SIZE. In the push method, before inserting a new element, check the size of the stack and raise a RuntimeError if the stack is full."
   ]
  },
  {
   "cell_type": "code",
   "execution_count": 68,
   "id": "d06447fd",
   "metadata": {},
   "outputs": [],
   "source": [
    "class Stack:        \n",
    "    MAX_SIZE = 5\n",
    "    \n",
    "    def __init__(self):\n",
    "        self.items = []\n",
    " \n",
    "    def is_empty(self):\n",
    "        return self.items == []\n",
    " \n",
    "    def size(self):\n",
    "        return len(self.items)\n",
    " \n",
    "    def push(self, item):\n",
    "        if self.size() == Stack.MAX_SIZE:\n",
    "            raise RuntimeError('Stack is full')\n",
    "        else:\n",
    "            self.items.append(item)\n",
    " \n",
    "    def pop(self):\n",
    "        if self.is_empty():\n",
    "            raise RuntimeError(\"Stack is empty\")\n",
    "        return self.items.pop()\n",
    "    \n",
    "    def display(self):\n",
    "        print(self.items)\n",
    " "
   ]
  },
  {
   "cell_type": "code",
   "execution_count": 71,
   "id": "0bd57a59",
   "metadata": {},
   "outputs": [
    {
     "name": "stdout",
     "output_type": "stream",
     "text": [
      "1.Push\n",
      "2.Pop\n",
      "3.Peek\n",
      "4.Size\n",
      "5.Display\n",
      "6.Quit\n",
      "Enter your choice : \"1.Push\"\n"
     ]
    },
    {
     "ename": "ValueError",
     "evalue": "invalid literal for int() with base 10: '\"1.Push\"'",
     "output_type": "error",
     "traceback": [
      "\u001b[1;31m---------------------------------------------------------------------------\u001b[0m",
      "\u001b[1;31mValueError\u001b[0m                                Traceback (most recent call last)",
      "Input \u001b[1;32mIn [71]\u001b[0m, in \u001b[0;36m<cell line: 1>\u001b[1;34m()\u001b[0m\n\u001b[0;32m      9\u001b[0m \u001b[38;5;28mprint\u001b[39m(\u001b[38;5;124m\"\u001b[39m\u001b[38;5;124m5.Display\u001b[39m\u001b[38;5;124m\"\u001b[39m) \n\u001b[0;32m     10\u001b[0m \u001b[38;5;28mprint\u001b[39m(\u001b[38;5;124m\"\u001b[39m\u001b[38;5;124m6.Quit\u001b[39m\u001b[38;5;124m\"\u001b[39m)\n\u001b[1;32m---> 12\u001b[0m choice \u001b[38;5;241m=\u001b[39m \u001b[38;5;28;43mint\u001b[39;49m\u001b[43m(\u001b[49m\u001b[38;5;28;43minput\u001b[39;49m\u001b[43m(\u001b[49m\u001b[38;5;124;43m\"\u001b[39;49m\u001b[38;5;124;43mEnter your choice : \u001b[39;49m\u001b[38;5;124;43m\"\u001b[39;49m\u001b[43m)\u001b[49m\u001b[43m)\u001b[49m\n\u001b[0;32m     14\u001b[0m \u001b[38;5;28;01mif\u001b[39;00m choice \u001b[38;5;241m==\u001b[39m \u001b[38;5;241m1\u001b[39m:\n\u001b[0;32m     15\u001b[0m     x\u001b[38;5;241m=\u001b[39m\u001b[38;5;28mint\u001b[39m(\u001b[38;5;28minput\u001b[39m(\u001b[38;5;124m\"\u001b[39m\u001b[38;5;124mEnter the element to be pushed : \u001b[39m\u001b[38;5;124m\"\u001b[39m))\n",
      "\u001b[1;31mValueError\u001b[0m: invalid literal for int() with base 10: '\"1.Push\"'"
     ]
    }
   ],
   "source": [
    "if __name__ == \"__main__\":\n",
    "    st = Stack()\n",
    " \n",
    "    while True:\n",
    "        print(\"1.Push\") \n",
    "        print(\"2.Pop\") \n",
    "        print(\"3.Peek\") \n",
    "        print(\"4.Size\")\n",
    "        print(\"5.Display\") \n",
    "        print(\"6.Quit\")\n",
    "         \n",
    "        choice = int(input(\"Enter your choice : \"))\n",
    " \n",
    "        if choice == 1:\n",
    "            x=int(input(\"Enter the element to be pushed : \"))\n",
    "            st.push(x) \n",
    "        elif choice == 2:\n",
    "            x=st.pop() \n",
    "            print(\"Popped element is : \" , x) \n",
    "        elif choice == 3:\n",
    "            print(\"Element at the top is : \" , st.peek()) \n",
    "        elif choice == 4:\n",
    "            print(\"Size of stack \" , st.size()) \n",
    "        elif choice == 5:\n",
    "            st.display()         \n",
    "        elif choice == 6:\n",
    "            break;\n",
    "        else:\n",
    "            print(\"Wrong choice\") \n",
    "        print() "
   ]
  },
  {
   "cell_type": "markdown",
   "id": "56a55970",
   "metadata": {},
   "source": [
    "## 7. Class variables with immutable values can be used as defaults for instance variables. In the following BankAccount class, add an instance variable named bank in the __init__method. Add a class variable bank_name that will be used as default argument in the __init__  method for bank parameter."
   ]
  },
  {
   "cell_type": "code",
   "execution_count": 75,
   "id": "a8a73e02",
   "metadata": {},
   "outputs": [],
   "source": [
    "class BankAccount:\n",
    "    bank_name = \"Sparkasse\"\n",
    "\n",
    "    def __init__(self, name, balance=0, bank=bank_name):\n",
    "        self.bank = bank\n",
    "        self.name = name\n",
    "        self.balance = balance\n",
    "        \n",
    "    def display(self):\n",
    "         print(self.name, self.balance)\n",
    " \n",
    "    def withdraw(self, amount):\n",
    "        self.balance -= amount\n",
    " \n",
    "    def deposit(self, amount):\n",
    "        self.balance += amount\n",
    "    "
   ]
  },
  {
   "cell_type": "code",
   "execution_count": 76,
   "id": "f77ef721",
   "metadata": {},
   "outputs": [
    {
     "name": "stdout",
     "output_type": "stream",
     "text": [
      "Mike 200\n",
      "Tom 0\n"
     ]
    }
   ],
   "source": [
    "a1 = BankAccount('Mike', 200)\n",
    "a2 = BankAccount('Tom')\n",
    " \n",
    "a1.display()\n",
    "a2.display()"
   ]
  },
  {
   "cell_type": "code",
   "execution_count": 77,
   "id": "a4632e0a",
   "metadata": {},
   "outputs": [
    {
     "data": {
      "text/plain": [
       "'Sparkasse'"
      ]
     },
     "execution_count": 77,
     "metadata": {},
     "output_type": "execute_result"
    }
   ],
   "source": [
    "a1.bank"
   ]
  },
  {
   "cell_type": "code",
   "execution_count": null,
   "id": "414e1ee2",
   "metadata": {},
   "outputs": [],
   "source": []
  }
 ],
 "metadata": {
  "kernelspec": {
   "display_name": "gpu_env",
   "language": "python",
   "name": "gpu_env"
  },
  "language_info": {
   "codemirror_mode": {
    "name": "ipython",
    "version": 3
   },
   "file_extension": ".py",
   "mimetype": "text/x-python",
   "name": "python",
   "nbconvert_exporter": "python",
   "pygments_lexer": "ipython3",
   "version": "3.9.12"
  }
 },
 "nbformat": 4,
 "nbformat_minor": 5
}
