{
 "cells": [
  {
   "cell_type": "code",
   "execution_count": 101,
   "id": "f2e347ce",
   "metadata": {},
   "outputs": [],
   "source": [
    "class Person:\n",
    "    def __init__(self, name, age):\n",
    "        self.name = name\n",
    "        self.age = age\n",
    "    \n",
    "    def display(self):\n",
    "        print(\"I am\", self.name)\n",
    "        \n",
    "    def greet(self):\n",
    "        print(f\"I am {self.age} years old\" )\n",
    "        self.display()"
   ]
  },
  {
   "cell_type": "code",
   "execution_count": 103,
   "id": "45965937",
   "metadata": {},
   "outputs": [],
   "source": [
    "p1 = Person(\"Song\", 27)"
   ]
  },
  {
   "cell_type": "code",
   "execution_count": 104,
   "id": "6d4d7925",
   "metadata": {},
   "outputs": [
    {
     "name": "stdout",
     "output_type": "stream",
     "text": [
      "I am 27 years old\n",
      "I am Song\n"
     ]
    }
   ],
   "source": [
    "p1.greet()"
   ]
  },
  {
   "cell_type": "code",
   "execution_count": 44,
   "id": "3691a7c9",
   "metadata": {},
   "outputs": [
    {
     "data": {
      "text/plain": [
       "20"
      ]
     },
     "execution_count": 44,
     "metadata": {},
     "output_type": "execute_result"
    }
   ],
   "source": [
    "p2.set_details()\n",
    "p2.name\n",
    "p2.age"
   ]
  },
  {
   "cell_type": "code",
   "execution_count": 45,
   "id": "1c76ed4c",
   "metadata": {},
   "outputs": [],
   "source": [
    "p2.name = \"Lisa\"\n",
    "p2.age= 18"
   ]
  },
  {
   "cell_type": "code",
   "execution_count": 46,
   "id": "5e634afc",
   "metadata": {},
   "outputs": [
    {
     "data": {
      "text/plain": [
       "'Lisa'"
      ]
     },
     "execution_count": 46,
     "metadata": {},
     "output_type": "execute_result"
    }
   ],
   "source": [
    "p2.name"
   ]
  },
  {
   "cell_type": "code",
   "execution_count": null,
   "id": "2a242dc2",
   "metadata": {},
   "outputs": [],
   "source": []
  },
  {
   "cell_type": "code",
   "execution_count": 23,
   "id": "e9b8875f",
   "metadata": {},
   "outputs": [
    {
     "name": "stdout",
     "output_type": "stream",
     "text": [
      "hi <__main__.Person object at 0x0000017EC6D737C0>\n",
      "how u doiiin?\n"
     ]
    }
   ],
   "source": [
    "p1.display()\n",
    "p1.greet()"
   ]
  },
  {
   "cell_type": "code",
   "execution_count": 26,
   "id": "bda87a07",
   "metadata": {},
   "outputs": [
    {
     "name": "stdout",
     "output_type": "stream",
     "text": [
      "<__main__.Person object at 0x0000017EC6D737C0>\n"
     ]
    }
   ],
   "source": [
    "print(p1)"
   ]
  },
  {
   "cell_type": "code",
   "execution_count": 27,
   "id": "6f53d881",
   "metadata": {},
   "outputs": [],
   "source": [
    "p1.name = \"Song\""
   ]
  },
  {
   "cell_type": "code",
   "execution_count": 29,
   "id": "e0133ccd",
   "metadata": {},
   "outputs": [
    {
     "data": {
      "text/plain": [
       "'Song'"
      ]
     },
     "execution_count": 29,
     "metadata": {},
     "output_type": "execute_result"
    }
   ],
   "source": [
    "p1.name"
   ]
  },
  {
   "cell_type": "code",
   "execution_count": 6,
   "id": "0248791f",
   "metadata": {},
   "outputs": [
    {
     "data": {
      "text/plain": [
       "1643993542816"
      ]
     },
     "execution_count": 6,
     "metadata": {},
     "output_type": "execute_result"
    }
   ],
   "source": [
    "id(p1)"
   ]
  },
  {
   "cell_type": "code",
   "execution_count": 7,
   "id": "7ffed490",
   "metadata": {},
   "outputs": [
    {
     "data": {
      "text/plain": [
       "<__main__.Person at 0x17ec5a6b0a0>"
      ]
     },
     "execution_count": 7,
     "metadata": {},
     "output_type": "execute_result"
    }
   ],
   "source": [
    "p1"
   ]
  },
  {
   "cell_type": "code",
   "execution_count": 68,
   "id": "de73074f",
   "metadata": {},
   "outputs": [],
   "source": [
    "class Test:\n",
    "    def method1(self):\n",
    "        self.x = 10\n",
    "        print(self.x)\n",
    "\n",
    "    def display(self):\n",
    "        self.method1()\n"
   ]
  },
  {
   "cell_type": "code",
   "execution_count": 69,
   "id": "33b4e74e",
   "metadata": {},
   "outputs": [
    {
     "name": "stdout",
     "output_type": "stream",
     "text": [
      "10\n"
     ]
    }
   ],
   "source": [
    "t = Test()\n",
    "t.display()"
   ]
  },
  {
   "cell_type": "code",
   "execution_count": null,
   "id": "16138866",
   "metadata": {},
   "outputs": [],
   "source": [
    "\"\"\"\n",
    "Make a class that represents a bank account. Create four methods named set_details, display, withdraw and deposit.\n",
    "\n",
    "In the set_details method, create two instance variables : name and balance. The default value for balance should be zero.\n",
    "In the display method, display the values of these two instance variables.\n",
    "\n",
    "Both the methods withdraw and deposit have amount as parameter. \n",
    "Inside withdraw, subtract the amount from balance and inside deposit, add the amount to the balance.\n",
    "\n",
    "Create two instances of this class and call the methods on those instances.\n",
    "\"\"\""
   ]
  },
  {
   "cell_type": "code",
   "execution_count": 94,
   "id": "32c9f901",
   "metadata": {},
   "outputs": [],
   "source": [
    "class Bank_account():\n",
    "    def set_details(self, name, balance=0):\n",
    "        self.name = name\n",
    "        self.balance = balance\n",
    "        \n",
    "    def display(self):\n",
    "        print(self.name, self.balance)\n",
    "        \n",
    "    def withdraw(self, amount):\n",
    "        self.balance -= amount\n",
    "        self.display()\n",
    "        \n",
    "    def deposit(self, amount):\n",
    "        self.balance += amount \n",
    "        self.display()"
   ]
  },
  {
   "cell_type": "code",
   "execution_count": 95,
   "id": "17cb0d9b",
   "metadata": {},
   "outputs": [],
   "source": [
    "b1 = Bank_account()"
   ]
  },
  {
   "cell_type": "code",
   "execution_count": 96,
   "id": "90d5c9c2",
   "metadata": {},
   "outputs": [],
   "source": [
    "b1.set_details(\"Song\")"
   ]
  },
  {
   "cell_type": "code",
   "execution_count": 97,
   "id": "4d9cf286",
   "metadata": {},
   "outputs": [
    {
     "name": "stdout",
     "output_type": "stream",
     "text": [
      "Song 0\n"
     ]
    }
   ],
   "source": [
    "b1.display()"
   ]
  },
  {
   "cell_type": "code",
   "execution_count": 99,
   "id": "89c10912",
   "metadata": {},
   "outputs": [
    {
     "name": "stdout",
     "output_type": "stream",
     "text": [
      "Song 3000\n"
     ]
    }
   ],
   "source": [
    "b1.deposit(2000)"
   ]
  },
  {
   "cell_type": "code",
   "execution_count": 100,
   "id": "ebdc0201",
   "metadata": {},
   "outputs": [
    {
     "name": "stdout",
     "output_type": "stream",
     "text": [
      "Song 2700\n"
     ]
    }
   ],
   "source": [
    "b1.withdraw(300)"
   ]
  },
  {
   "cell_type": "code",
   "execution_count": null,
   "id": "24c24c60",
   "metadata": {},
   "outputs": [],
   "source": []
  }
 ],
 "metadata": {
  "kernelspec": {
   "display_name": "gpu_env",
   "language": "python",
   "name": "gpu_env"
  },
  "language_info": {
   "codemirror_mode": {
    "name": "ipython",
    "version": 3
   },
   "file_extension": ".py",
   "mimetype": "text/x-python",
   "name": "python",
   "nbconvert_exporter": "python",
   "pygments_lexer": "ipython3",
   "version": "3.9.12"
  }
 },
 "nbformat": 4,
 "nbformat_minor": 5
}
