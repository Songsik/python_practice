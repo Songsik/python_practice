{
 "cells": [
  {
   "cell_type": "markdown",
   "id": "c7b1a175",
   "metadata": {},
   "source": [
    "## 1. In the following class, write code for the methods __eq__, __lt__, __le__."
   ]
  },
  {
   "cell_type": "code",
   "execution_count": 4,
   "id": "4ad17a1e",
   "metadata": {},
   "outputs": [],
   "source": [
    "class Time:\n",
    "    def __init__(self,h,m,s):\n",
    "        self._h = h \n",
    "        self._m = m\n",
    "        self._s = h\n",
    " \n",
    "    #Read-only field accessors\n",
    "    @property\n",
    "    def hours(self):\n",
    "        return self._h\n",
    " \n",
    "    @property\n",
    "    def minutes(self):\n",
    "        return self._m\n",
    " \n",
    "    @property\n",
    "    def seconds(self):\n",
    "        return self._s\n",
    "    \n",
    "    def __eq__(self,other):\n",
    "        return True if _cmp(self,other) == 0 else False\n",
    "    \n",
    "    def __lt__(self,other):\n",
    "        return True if _cmp(self,other) == 1 else False\n",
    " \n",
    "    def __le__(self,other):\n",
    "        return True if (_cmp(self,other) == 0 or _cmp(self,other) == 1)  else False\n",
    " "
   ]
  },
  {
   "cell_type": "code",
   "execution_count": 5,
   "id": "e4c7373a",
   "metadata": {},
   "outputs": [
    {
     "name": "stdout",
     "output_type": "stream",
     "text": [
      "False\n",
      "True\n",
      "False\n",
      "True\n"
     ]
    }
   ],
   "source": [
    "def _cmp(time1,time2):\n",
    "    if time1._h < time2._h:\n",
    "        return 1\n",
    "    if time1._h > time2._h:\n",
    "        return -1\n",
    "    if time1._m < time2._m:\n",
    "        return 1\n",
    "    if time1._m > time2._m:\n",
    "        return -1\n",
    "    if time1._s < time2._s:\n",
    "        return 1\n",
    "    if time1._s > time2._s:\n",
    "        return -1\n",
    "    return 0\n",
    " \n",
    "       \n",
    "t1 = Time(13, 10, 5)\n",
    "t2 = Time(5, 15, 30)\n",
    "t3 = Time(5, 15, 30)\n",
    "print(t1 < t2)\n",
    "print(t1 > t2)\n",
    "print(t1 == t2)\n",
    "print(t2 == t3)"
   ]
  },
  {
   "cell_type": "code",
   "execution_count": null,
   "id": "e9028eca",
   "metadata": {},
   "outputs": [],
   "source": []
  }
 ],
 "metadata": {
  "kernelspec": {
   "display_name": "Python 3 (ipykernel)",
   "language": "python",
   "name": "python3"
  },
  "language_info": {
   "codemirror_mode": {
    "name": "ipython",
    "version": 3
   },
   "file_extension": ".py",
   "mimetype": "text/x-python",
   "name": "python",
   "nbconvert_exporter": "python",
   "pygments_lexer": "ipython3",
   "version": "3.10.6"
  }
 },
 "nbformat": 4,
 "nbformat_minor": 5
}
